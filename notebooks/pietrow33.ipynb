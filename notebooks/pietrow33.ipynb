{
 "cells": [
  {
   "cell_type": "code",
   "execution_count": 21,
   "id": "6e18493d",
   "metadata": {},
   "outputs": [
    {
     "name": "stdout",
     "output_type": "stream",
     "text": [
      "The autoreload extension is already loaded. To reload it, use:\n",
      "  %reload_ext autoreload\n"
     ]
    }
   ],
   "source": [
    "import numpy as np\n",
    "import matplotlib.pyplot as plt\n",
    "import pandas as pd\n",
    "import seaborn as sns\n",
    "%load_ext autoreload\n",
    "%autoreload 2\n",
    "from google.cloud import storage\n",
    "import io\n",
    "import librosa\n",
    "import os\n",
    "import sys\n",
    "sys.path.append(os.path.abspath('../coughvid'))\n",
    "from segmentation import segment_cough, compute_SNR\n",
    "from scipy.io import wavfile\n",
    "from IPython.display import Audio\n",
    "sys.path.append(os.path.abspath('../coughvid'))\n",
    "from feature_class import features\n",
    "from DSP import classify_cough\n",
    "import pickle\n",
    "import librosa.display\n",
    "import imageio"
   ]
  },
  {
   "cell_type": "markdown",
   "id": "66251a4c",
   "metadata": {
    "heading_collapsed": true
   },
   "source": [
    "# First Analysis"
   ]
  },
  {
   "cell_type": "code",
   "execution_count": null,
   "id": "7f6e83ae",
   "metadata": {
    "hidden": true,
    "scrolled": true,
    "slideshow": {
     "slide_type": "slide"
    }
   },
   "outputs": [],
   "source": [
    "df = pd.read_csv(\"../raw_data/metadata_compiled.csv\",delimiter=',')\n",
    "df.head()"
   ]
  },
  {
   "cell_type": "code",
   "execution_count": null,
   "id": "b92bfa22",
   "metadata": {
    "hidden": true,
    "scrolled": true,
    "slideshow": {
     "slide_type": "-"
    }
   },
   "outputs": [],
   "source": [
    "df['status'].value_counts()"
   ]
  },
  {
   "cell_type": "code",
   "execution_count": null,
   "id": "17e83d95",
   "metadata": {
    "hidden": true
   },
   "outputs": [],
   "source": [
    "df['gender'].value_counts()"
   ]
  },
  {
   "cell_type": "code",
   "execution_count": null,
   "id": "6ee23350",
   "metadata": {
    "hidden": true
   },
   "outputs": [],
   "source": [
    "df.shape"
   ]
  },
  {
   "cell_type": "code",
   "execution_count": null,
   "id": "255b0f1d",
   "metadata": {
    "hidden": true,
    "scrolled": true
   },
   "outputs": [],
   "source": [
    "df.info()"
   ]
  },
  {
   "cell_type": "code",
   "execution_count": null,
   "id": "6b239e15",
   "metadata": {
    "hidden": true
   },
   "outputs": [],
   "source": [
    "df.columns"
   ]
  },
  {
   "cell_type": "code",
   "execution_count": null,
   "id": "7e0051c1",
   "metadata": {
    "hidden": true
   },
   "outputs": [],
   "source": [
    "fill = df[['cough_detected','quality_1','cough_type_1', 'dyspnea_1', 'wheezing_1', 'stridor_1',\n",
    "       'choking_1', 'congestion_1', 'nothing_1', 'diagnosis_1', 'severity_1']]"
   ]
  },
  {
   "cell_type": "code",
   "execution_count": null,
   "id": "67630ed1",
   "metadata": {
    "hidden": true
   },
   "outputs": [],
   "source": [
    "fill['quality_1'].unique()"
   ]
  },
  {
   "cell_type": "code",
   "execution_count": null,
   "id": "89926a12",
   "metadata": {
    "hidden": true
   },
   "outputs": [],
   "source": [
    "df['quality_1'].value_counts()"
   ]
  },
  {
   "cell_type": "code",
   "execution_count": null,
   "id": "8bf857b0",
   "metadata": {
    "hidden": true
   },
   "outputs": [],
   "source": [
    "df['cough_type_1'].value_counts()"
   ]
  },
  {
   "cell_type": "code",
   "execution_count": null,
   "id": "f788b4a9",
   "metadata": {
    "hidden": true
   },
   "outputs": [],
   "source": [
    "df['dyspnea_1'].value_counts()"
   ]
  },
  {
   "cell_type": "markdown",
   "id": "b670b950",
   "metadata": {
    "heading_collapsed": true
   },
   "source": [
    "# Specific Investigation"
   ]
  },
  {
   "cell_type": "markdown",
   "id": "6a3f312f",
   "metadata": {
    "heading_collapsed": true,
    "hidden": true
   },
   "source": [
    "## Considering only audios which have a status"
   ]
  },
  {
   "cell_type": "code",
   "execution_count": null,
   "id": "53f8b0e3",
   "metadata": {
    "hidden": true
   },
   "outputs": [],
   "source": [
    "new_df = df[df['status'].notnull()].copy()\n",
    "new_df\n"
   ]
  },
  {
   "cell_type": "markdown",
   "id": "2b7ad628",
   "metadata": {
    "heading_collapsed": true,
    "hidden": true
   },
   "source": [
    "## Disconsidering the specialists features at first"
   ]
  },
  {
   "cell_type": "code",
   "execution_count": null,
   "id": "729880bf",
   "metadata": {
    "hidden": true
   },
   "outputs": [],
   "source": [
    "new_df.columns"
   ]
  },
  {
   "cell_type": "code",
   "execution_count": null,
   "id": "df9b5b66",
   "metadata": {
    "hidden": true
   },
   "outputs": [],
   "source": [
    "new_df = new_df[['uuid', 'datetime', 'cough_detected', 'SNR', 'latitude', 'longitude',\n",
    "       'age', 'gender', 'respiratory_condition', 'fever_muscle_pain', 'status']].copy()\n",
    "new_df"
   ]
  },
  {
   "cell_type": "markdown",
   "id": "3634b5f3",
   "metadata": {
    "heading_collapsed": true,
    "hidden": true
   },
   "source": [
    "## Evaluating status"
   ]
  },
  {
   "cell_type": "code",
   "execution_count": null,
   "id": "54283144",
   "metadata": {
    "hidden": true
   },
   "outputs": [],
   "source": [
    "new_df['status'].value_counts()/new_df['status'].count()"
   ]
  },
  {
   "cell_type": "code",
   "execution_count": null,
   "id": "0c6f7c50",
   "metadata": {
    "hidden": true
   },
   "outputs": [],
   "source": [
    "new_df['status'].value_counts()"
   ]
  },
  {
   "cell_type": "code",
   "execution_count": null,
   "id": "3aff203f",
   "metadata": {
    "hidden": true
   },
   "outputs": [],
   "source": [
    "1155+12479"
   ]
  },
  {
   "cell_type": "markdown",
   "id": "1cb74e77",
   "metadata": {
    "heading_collapsed": true,
    "hidden": true
   },
   "source": [
    "## Removing Symptomatics"
   ]
  },
  {
   "cell_type": "code",
   "execution_count": null,
   "id": "f2cbab1f",
   "metadata": {
    "hidden": true
   },
   "outputs": [],
   "source": [
    "new_df"
   ]
  },
  {
   "cell_type": "code",
   "execution_count": null,
   "id": "37483c2f",
   "metadata": {
    "hidden": true
   },
   "outputs": [],
   "source": [
    "new_df = new_df[new_df['status'] != 'symptomatic'].copy()"
   ]
  },
  {
   "cell_type": "code",
   "execution_count": null,
   "id": "b87a099c",
   "metadata": {
    "hidden": true
   },
   "outputs": [],
   "source": [
    "new_df['status'].value_counts()"
   ]
  },
  {
   "cell_type": "markdown",
   "id": "4b58dd5c",
   "metadata": {
    "heading_collapsed": true,
    "hidden": true
   },
   "source": [
    "## LabelEncoding features"
   ]
  },
  {
   "cell_type": "code",
   "execution_count": null,
   "id": "cc823108",
   "metadata": {
    "hidden": true
   },
   "outputs": [],
   "source": [
    "from sklearn.preprocessing import LabelEncoder\n",
    "from sklearn.preprocessing import OneHotEncoder"
   ]
  },
  {
   "cell_type": "code",
   "execution_count": null,
   "id": "b54b6b3a",
   "metadata": {
    "hidden": true
   },
   "outputs": [],
   "source": [
    "new_df.columns"
   ]
  },
  {
   "cell_type": "code",
   "execution_count": null,
   "id": "ec1daaa8",
   "metadata": {
    "hidden": true
   },
   "outputs": [],
   "source": [
    "new_df['respiratory_condition'] = LabelEncoder().fit_transform(new_df['respiratory_condition'])\n",
    "new_df['fever_muscle_pain'] = LabelEncoder().fit_transform(new_df['fever_muscle_pain'])\n",
    "new_df['status'] = new_df['status'].map({'healthy': 0, 'COVID-19': 1})"
   ]
  },
  {
   "cell_type": "markdown",
   "id": "3239bdbe",
   "metadata": {
    "hidden": true
   },
   "source": [
    "Respiratory Condition and Fever Muscle Pain: 0 - False, 1 - True\n",
    "\n",
    "Status: 0 - Healthy, 1 - COVID"
   ]
  },
  {
   "cell_type": "code",
   "execution_count": null,
   "id": "c245c1ec",
   "metadata": {
    "hidden": true
   },
   "outputs": [],
   "source": [
    "new_df.isnull().sum()"
   ]
  },
  {
   "cell_type": "code",
   "execution_count": null,
   "id": "f9cfcf4a",
   "metadata": {
    "hidden": true
   },
   "outputs": [],
   "source": [
    "new_df.isnull().sum() / new_df.count()"
   ]
  },
  {
   "cell_type": "code",
   "execution_count": null,
   "id": "cd5b3ad1",
   "metadata": {
    "hidden": true
   },
   "outputs": [],
   "source": [
    "new_df.describe()"
   ]
  },
  {
   "cell_type": "markdown",
   "id": "f0281a2d",
   "metadata": {
    "heading_collapsed": true,
    "hidden": true
   },
   "source": [
    "## Imputing Age Mean"
   ]
  },
  {
   "cell_type": "code",
   "execution_count": null,
   "id": "82e71068",
   "metadata": {
    "hidden": true
   },
   "outputs": [],
   "source": [
    "from sklearn.impute import SimpleImputer"
   ]
  },
  {
   "cell_type": "code",
   "execution_count": null,
   "id": "b3b8a34a",
   "metadata": {
    "hidden": true
   },
   "outputs": [],
   "source": [
    "imputer = SimpleImputer(strategy=\"mean\")\n",
    "imputer.fit(new_df[['age']])\n",
    "new_df['age'] = imputer.transform(new_df[['age']])"
   ]
  },
  {
   "cell_type": "code",
   "execution_count": null,
   "id": "feaf2dc2",
   "metadata": {
    "hidden": true,
    "scrolled": false
   },
   "outputs": [],
   "source": [
    "new_df"
   ]
  },
  {
   "cell_type": "markdown",
   "id": "d0415a1a",
   "metadata": {
    "heading_collapsed": true,
    "hidden": true
   },
   "source": [
    "## Defining Target and Features"
   ]
  },
  {
   "cell_type": "code",
   "execution_count": null,
   "id": "9a1a300c",
   "metadata": {
    "hidden": true,
    "scrolled": false
   },
   "outputs": [],
   "source": [
    "X = new_df.drop(columns=['uuid', 'datetime','SNR', 'latitude', 'longitude','gender','status'])\n",
    "y = new_df['status']\n",
    "X"
   ]
  },
  {
   "cell_type": "code",
   "execution_count": null,
   "id": "ee5f0e2e",
   "metadata": {
    "hidden": true
   },
   "outputs": [],
   "source": [
    "X.describe()"
   ]
  },
  {
   "cell_type": "markdown",
   "id": "5b21820e",
   "metadata": {
    "heading_collapsed": true,
    "hidden": true
   },
   "source": [
    "## Model Evaluation"
   ]
  },
  {
   "cell_type": "code",
   "execution_count": null,
   "id": "aab56530",
   "metadata": {
    "hidden": true
   },
   "outputs": [],
   "source": [
    "import statsmodels.formula.api as smf"
   ]
  },
  {
   "cell_type": "code",
   "execution_count": null,
   "id": "caae778a",
   "metadata": {
    "hidden": true
   },
   "outputs": [],
   "source": [
    "new_df"
   ]
  },
  {
   "cell_type": "code",
   "execution_count": null,
   "id": "cdb58bdb",
   "metadata": {
    "hidden": true
   },
   "outputs": [],
   "source": [
    "model = smf.logit(formula='status ~ cough_detected + age + C(gender) + respiratory_condition + fever_muscle_pain - 1', data=new_df).fit()\n",
    "model.summary()"
   ]
  },
  {
   "cell_type": "markdown",
   "id": "7abe5656",
   "metadata": {
    "heading_collapsed": true
   },
   "source": [
    "# Cough Detection Threshold"
   ]
  },
  {
   "cell_type": "code",
   "execution_count": null,
   "id": "6fafa2dc",
   "metadata": {
    "hidden": true
   },
   "outputs": [],
   "source": [
    "new_df = new_df[new_df['cough_detected']>0.6].copy()\n",
    "new_df"
   ]
  },
  {
   "cell_type": "code",
   "execution_count": null,
   "id": "c4713016",
   "metadata": {
    "hidden": true
   },
   "outputs": [],
   "source": [
    "new_df.shape[0]"
   ]
  },
  {
   "cell_type": "code",
   "execution_count": null,
   "id": "fc746343",
   "metadata": {
    "hidden": true
   },
   "outputs": [],
   "source": [
    "threshold = 0.6"
   ]
  },
  {
   "cell_type": "code",
   "execution_count": null,
   "id": "4ddb788c",
   "metadata": {
    "hidden": true,
    "scrolled": false
   },
   "outputs": [],
   "source": [
    "new_df[new_df['cough_detected'] > threshold].shape[0]"
   ]
  },
  {
   "cell_type": "markdown",
   "id": "5325cb06",
   "metadata": {
    "heading_collapsed": true
   },
   "source": [
    "# Cough Detection Model"
   ]
  },
  {
   "cell_type": "code",
   "execution_count": null,
   "id": "be37bfc5",
   "metadata": {
    "hidden": true
   },
   "outputs": [],
   "source": [
    "data_folder = '../sample_recordings'\n",
    "loaded_model = pickle.load(open(os.path.join('../models', 'cough_classifier'), 'rb'))\n",
    "loaded_scaler = pickle.load(open(os.path.join('../models','cough_classification_scaler'), 'rb'))"
   ]
  },
  {
   "cell_type": "code",
   "execution_count": null,
   "id": "9797d6f4",
   "metadata": {
    "hidden": true
   },
   "outputs": [],
   "source": [
    "filename = 'cough.wav'\n",
    "x, fs = librosa.load(data_folder+'/'+filename, sr=None)\n",
    "probability = classify_cough(x, fs, loaded_model, loaded_scaler)\n",
    "print(\"The file {0} has a {1}\\% probability of being a cough\".format(filename,round(probability*100,2)))"
   ]
  },
  {
   "cell_type": "code",
   "execution_count": null,
   "id": "ddbcf79a",
   "metadata": {
    "hidden": true
   },
   "outputs": [],
   "source": [
    "filename = 'not_cough.wav'\n",
    "x, fs = librosa.load(data_folder+'/'+filename, sr=None)\n",
    "probability = classify_cough(x, fs, loaded_model, loaded_scaler)\n",
    "print(\"The file {0} has a {1}\\% probability of being a cough\".format(filename,round(probability*100,2)))"
   ]
  },
  {
   "cell_type": "code",
   "execution_count": null,
   "id": "4656940e",
   "metadata": {
    "hidden": true,
    "scrolled": true
   },
   "outputs": [],
   "source": [
    "client = storage.Client()\n",
    "bucket = client.get_bucket('coughvid-650')\n",
    "blob = bucket.get_blob('data/00039425-7f3a-42aa-ac13-834aaa2b6b92.wav')\n",
    "audio,rate = librosa.load(io.BytesIO(blob.download_as_string()), sr=None)\n",
    "probability = classify_cough(audio, rate, loaded_model, loaded_scaler)\n",
    "print(\"The file {0} has a {1}\\% probability of being a cough\".format(filename,round(probability*100,2)))"
   ]
  },
  {
   "cell_type": "code",
   "execution_count": null,
   "id": "1a074f5c",
   "metadata": {
    "hidden": true
   },
   "outputs": [],
   "source": [
    "Audio(audio, rate=rate)"
   ]
  },
  {
   "cell_type": "code",
   "execution_count": null,
   "id": "daa9bd3b",
   "metadata": {
    "hidden": true
   },
   "outputs": [],
   "source": [
    "rate"
   ]
  },
  {
   "cell_type": "code",
   "execution_count": null,
   "id": "849321e2",
   "metadata": {
    "hidden": true
   },
   "outputs": [],
   "source": [
    "df"
   ]
  },
  {
   "cell_type": "markdown",
   "id": "00c32ef1",
   "metadata": {
    "heading_collapsed": true
   },
   "source": [
    "# SNR Calculator"
   ]
  },
  {
   "cell_type": "code",
   "execution_count": null,
   "id": "c75e433c",
   "metadata": {
    "hidden": true
   },
   "outputs": [],
   "source": [
    "client = storage.Client()\n",
    "\n",
    "bucket = client.get_bucket('coughvid-650')\n",
    "\n",
    "blob = bucket.get_blob('data/fff3ff61-2387-4139-938b-539db01e6be5.wav')"
   ]
  },
  {
   "cell_type": "code",
   "execution_count": null,
   "id": "d2f49827",
   "metadata": {
    "hidden": true
   },
   "outputs": [],
   "source": [
    "audio,rate = librosa.load(io.BytesIO(blob.download_as_string()), sr=None)"
   ]
  },
  {
   "cell_type": "code",
   "execution_count": null,
   "id": "ed305f85",
   "metadata": {
    "hidden": true
   },
   "outputs": [],
   "source": [
    "snr = compute_SNR(audio,rate)\n",
    "print(\"The SNR of the cough signal is {0}\".format(snr))"
   ]
  },
  {
   "cell_type": "code",
   "execution_count": null,
   "id": "78e8fbb9",
   "metadata": {
    "hidden": true,
    "scrolled": false
   },
   "outputs": [],
   "source": [
    "df"
   ]
  },
  {
   "cell_type": "code",
   "execution_count": null,
   "id": "c78fdecc",
   "metadata": {
    "hidden": true
   },
   "outputs": [],
   "source": [
    "df.describe()"
   ]
  },
  {
   "cell_type": "code",
   "execution_count": null,
   "id": "71021f20",
   "metadata": {
    "hidden": true,
    "scrolled": true
   },
   "outputs": [],
   "source": [
    "Audio(audio, rate=rate)"
   ]
  },
  {
   "cell_type": "markdown",
   "id": "fd9c3ff5",
   "metadata": {},
   "source": [
    "# Mel Spectrogram"
   ]
  },
  {
   "cell_type": "code",
   "execution_count": null,
   "id": "e67f75ce",
   "metadata": {},
   "outputs": [],
   "source": [
    "client = storage.Client()\n",
    "bucket = client.get_bucket('coughvid-650')\n",
    "blob = bucket.get_blob('data/00039425-7f3a-42aa-ac13-834aaa2b6b92.wav')\n",
    "audio,rate = librosa.load(io.BytesIO(blob.download_as_string()), sr=None)"
   ]
  },
  {
   "cell_type": "code",
   "execution_count": null,
   "id": "1d20b1eb",
   "metadata": {},
   "outputs": [],
   "source": [
    "Audio(audio, rate=rate)"
   ]
  },
  {
   "cell_type": "code",
   "execution_count": null,
   "id": "e1796f46",
   "metadata": {},
   "outputs": [],
   "source": [
    "# for i in range(len(audios_test)):\n",
    "#     S = librosa.feature.melspectrogram(y = audios_test[i], sr = rates_test[i], n_mels=128, fmax=8000)\n",
    "#     fig, ax = plt.subplots()\n",
    "#     S_dB = librosa.power_to_db(S, ref=np.max)\n",
    "#     img = librosa.display.specshow(S_dB, sr=rates_test[i], fmax=8000, ax=ax)\n",
    "    \n",
    "#     if new_df[new_df.index==index_test[i]].status.values[0] == 1:\n",
    "#         plt.savefig('./test/2-COVID/' + f'test{i}.png')\n",
    "#     else:\n",
    "#         plt.savefig('./test/1-Healthy/' + f'test{i}.png')"
   ]
  },
  {
   "cell_type": "code",
   "execution_count": 25,
   "id": "c9077e76",
   "metadata": {},
   "outputs": [
    {
     "data": {
      "image/png": "[encoded data removed]",
      "text/plain": [
       "<Figure size 432x288 with 1 Axes>"
      ]
     },
     "metadata": {
      "needs_background": "light"
     },
     "output_type": "display_data"
    }
   ],
   "source": [
    "im = imageio.imread('./test/1-healthy/00039425-7f3a-42aa-ac13-834aaa2b6b92.png')\n",
    "plt.imshow(im);"
   ]
  },
  {
   "cell_type": "code",
   "execution_count": 26,
   "id": "21f0cc88",
   "metadata": {},
   "outputs": [
    {
     "data": {
      "image/png": "[encoded data removed]",
      "text/plain": [
       "<Figure size 432x288 with 1 Axes>"
      ]
     },
     "metadata": {
      "needs_background": "light"
     },
     "output_type": "display_data"
    }
   ],
   "source": [
    "im = imageio.imread('./test/2-COVID/0b6c6e9b-7c10-4977-a281-f809b939c2e7.png')\n",
    "plt.imshow(im);"
   ]
  },
  {
   "cell_type": "markdown",
   "id": "7a7cff39",
   "metadata": {},
   "source": [
    "# Image Model"
   ]
  },
  {
   "cell_type": "code",
   "execution_count": 10,
   "id": "3fd85382",
   "metadata": {},
   "outputs": [],
   "source": [
    "from tensorflow.keras.preprocessing.image import ImageDataGenerator\n",
    "from sklearn.metrics import confusion_matrix\n",
    "import seaborn as sns\n",
    "from keras.preprocessing import image\n",
    "from numpy import load\n",
    "from sklearn.model_selection import train_test_split\n",
    "from tensorflow.keras import layers\n",
    "from tensorflow.keras import models\n",
    "from tensorflow.keras import metrics"
   ]
  },
  {
   "cell_type": "code",
   "execution_count": 3,
   "id": "51459491",
   "metadata": {},
   "outputs": [],
   "source": [
    "X = load('./sample/sample.npy')\n",
    "y= load('./sample/sample_target.npy')"
   ]
  },
  {
   "cell_type": "code",
   "execution_count": 4,
   "id": "effbd4ef",
   "metadata": {},
   "outputs": [
    {
     "data": {
      "text/plain": [
       "(1512, 288, 432, 4)"
      ]
     },
     "execution_count": 4,
     "metadata": {},
     "output_type": "execute_result"
    }
   ],
   "source": [
    "X.shape"
   ]
  },
  {
   "cell_type": "code",
   "execution_count": 13,
   "id": "113da457",
   "metadata": {},
   "outputs": [],
   "source": [
    "X_train, X_test, y_train, y_test = train_test_split(X, y, test_size=0.3)"
   ]
  },
  {
   "cell_type": "code",
   "execution_count": 14,
   "id": "91398d85",
   "metadata": {},
   "outputs": [],
   "source": [
    "def initialize_model():\n",
    "    model = models.Sequential()\n",
    "\n",
    "    #first_convolution\n",
    "    model.add(layers.Conv2D(16, (3,3), activation='relu', input_shape=(288, 432, 4)))\n",
    "    model.add(layers.MaxPooling2D(2, 2))\n",
    "    #second_convolution\n",
    "    model.add(layers.Conv2D(32, (3,3), activation='relu'))\n",
    "    model.add(layers.MaxPooling2D(2,2))\n",
    "    #third_convolution\n",
    "    model.add(layers.Conv2D(64, (3,3), activation='relu'))\n",
    "    model.add(layers.MaxPooling2D(2,2))\n",
    "    #fourth_convolution\n",
    "    #     tf.keras.layers.Conv2D(64, (3,3), activation='relu'),\n",
    "    #     tf.keras.layers.MaxPooling2D(2,2),\n",
    "    model.add(layers.Flatten())\n",
    "    model.add(layers.Dropout(0.5))\n",
    "    model.add(layers.Dense(256, activation='relu'))\n",
    "    model.add(layers.Dense(1, activation='sigmoid'))\n",
    "    \n",
    "    model.compile(loss='binary_crossentropy', optimizer='adam', metrics = ['accuracy',metrics.Recall()])\n",
    "    \n",
    "    return model\n",
    "\n",
    "model = initialize_model()"
   ]
  },
  {
   "cell_type": "code",
   "execution_count": 15,
   "id": "8cbad820",
   "metadata": {},
   "outputs": [
    {
     "name": "stderr",
     "output_type": "stream",
     "text": [
      "2021-08-06 15:51:08.559744: W tensorflow/core/framework/cpu_allocator_impl.cc:80] Allocation of 526528512 exceeds 10% of free system memory.\n",
      "2021-08-06 15:51:08.853296: I tensorflow/compiler/mlir/mlir_graph_optimization_pass.cc:176] None of the MLIR Optimization Passes are enabled (registered 2)\n",
      "2021-08-06 15:51:08.853732: I tensorflow/core/platform/profile_utils/cpu_utils.cc:114] CPU Frequency: 3792885000 Hz\n"
     ]
    },
    {
     "name": "stdout",
     "output_type": "stream",
     "text": [
      "Epoch 1/50\n",
      " 1/34 [..............................] - ETA: 2:53 - loss: 10.0084 - accuracy: 0.5625 - recall_2: 0.7000"
     ]
    },
    {
     "ename": "KeyboardInterrupt",
     "evalue": "",
     "output_type": "error",
     "traceback": [
      "\u001b[0;31m---------------------------------------------------------------------------\u001b[0m",
      "\u001b[0;31mKeyboardInterrupt\u001b[0m                         Traceback (most recent call last)",
      "\u001b[0;32m/tmp/ipykernel_28900/3154427044.py\u001b[0m in \u001b[0;36m<module>\u001b[0;34m\u001b[0m\n\u001b[0;32m----> 1\u001b[0;31m \u001b[0mmodel\u001b[0m\u001b[0;34m.\u001b[0m\u001b[0mfit\u001b[0m\u001b[0;34m(\u001b[0m\u001b[0mX_train\u001b[0m\u001b[0;34m,\u001b[0m\u001b[0my_train\u001b[0m\u001b[0;34m,\u001b[0m \u001b[0mbatch_size\u001b[0m\u001b[0;34m=\u001b[0m\u001b[0;36m32\u001b[0m\u001b[0;34m,\u001b[0m\u001b[0mepochs\u001b[0m\u001b[0;34m=\u001b[0m\u001b[0;36m50\u001b[0m\u001b[0;34m)\u001b[0m\u001b[0;34m\u001b[0m\u001b[0;34m\u001b[0m\u001b[0m\n\u001b[0m",
      "\u001b[0;32m~/.pyenv/versions/3.8.6/envs/coughvid/lib/python3.8/site-packages/tensorflow/python/keras/engine/training.py\u001b[0m in \u001b[0;36mfit\u001b[0;34m(self, x, y, batch_size, epochs, verbose, callbacks, validation_split, validation_data, shuffle, class_weight, sample_weight, initial_epoch, steps_per_epoch, validation_steps, validation_batch_size, validation_freq, max_queue_size, workers, use_multiprocessing)\u001b[0m\n\u001b[1;32m   1181\u001b[0m                 _r=1):\n\u001b[1;32m   1182\u001b[0m               \u001b[0mcallbacks\u001b[0m\u001b[0;34m.\u001b[0m\u001b[0mon_train_batch_begin\u001b[0m\u001b[0;34m(\u001b[0m\u001b[0mstep\u001b[0m\u001b[0;34m)\u001b[0m\u001b[0;34m\u001b[0m\u001b[0;34m\u001b[0m\u001b[0m\n\u001b[0;32m-> 1183\u001b[0;31m               \u001b[0mtmp_logs\u001b[0m \u001b[0;34m=\u001b[0m \u001b[0mself\u001b[0m\u001b[0;34m.\u001b[0m\u001b[0mtrain_function\u001b[0m\u001b[0;34m(\u001b[0m\u001b[0miterator\u001b[0m\u001b[0;34m)\u001b[0m\u001b[0;34m\u001b[0m\u001b[0;34m\u001b[0m\u001b[0m\n\u001b[0m\u001b[1;32m   1184\u001b[0m               \u001b[0;32mif\u001b[0m \u001b[0mdata_handler\u001b[0m\u001b[0;34m.\u001b[0m\u001b[0mshould_sync\u001b[0m\u001b[0;34m:\u001b[0m\u001b[0;34m\u001b[0m\u001b[0;34m\u001b[0m\u001b[0m\n\u001b[1;32m   1185\u001b[0m                 \u001b[0mcontext\u001b[0m\u001b[0;34m.\u001b[0m\u001b[0masync_wait\u001b[0m\u001b[0;34m(\u001b[0m\u001b[0;34m)\u001b[0m\u001b[0;34m\u001b[0m\u001b[0;34m\u001b[0m\u001b[0m\n",
      "\u001b[0;32m~/.pyenv/versions/3.8.6/envs/coughvid/lib/python3.8/site-packages/tensorflow/python/eager/def_function.py\u001b[0m in \u001b[0;36m__call__\u001b[0;34m(self, *args, **kwds)\u001b[0m\n\u001b[1;32m    887\u001b[0m \u001b[0;34m\u001b[0m\u001b[0m\n\u001b[1;32m    888\u001b[0m       \u001b[0;32mwith\u001b[0m \u001b[0mOptionalXlaContext\u001b[0m\u001b[0;34m(\u001b[0m\u001b[0mself\u001b[0m\u001b[0;34m.\u001b[0m\u001b[0m_jit_compile\u001b[0m\u001b[0;34m)\u001b[0m\u001b[0;34m:\u001b[0m\u001b[0;34m\u001b[0m\u001b[0;34m\u001b[0m\u001b[0m\n\u001b[0;32m--> 889\u001b[0;31m         \u001b[0mresult\u001b[0m \u001b[0;34m=\u001b[0m \u001b[0mself\u001b[0m\u001b[0;34m.\u001b[0m\u001b[0m_call\u001b[0m\u001b[0;34m(\u001b[0m\u001b[0;34m*\u001b[0m\u001b[0margs\u001b[0m\u001b[0;34m,\u001b[0m \u001b[0;34m**\u001b[0m\u001b[0mkwds\u001b[0m\u001b[0;34m)\u001b[0m\u001b[0;34m\u001b[0m\u001b[0;34m\u001b[0m\u001b[0m\n\u001b[0m\u001b[1;32m    890\u001b[0m \u001b[0;34m\u001b[0m\u001b[0m\n\u001b[1;32m    891\u001b[0m       \u001b[0mnew_tracing_count\u001b[0m \u001b[0;34m=\u001b[0m \u001b[0mself\u001b[0m\u001b[0;34m.\u001b[0m\u001b[0mexperimental_get_tracing_count\u001b[0m\u001b[0;34m(\u001b[0m\u001b[0;34m)\u001b[0m\u001b[0;34m\u001b[0m\u001b[0;34m\u001b[0m\u001b[0m\n",
      "\u001b[0;32m~/.pyenv/versions/3.8.6/envs/coughvid/lib/python3.8/site-packages/tensorflow/python/eager/def_function.py\u001b[0m in \u001b[0;36m_call\u001b[0;34m(self, *args, **kwds)\u001b[0m\n\u001b[1;32m    915\u001b[0m       \u001b[0;31m# In this case we have created variables on the first call, so we run the\u001b[0m\u001b[0;34m\u001b[0m\u001b[0;34m\u001b[0m\u001b[0;34m\u001b[0m\u001b[0m\n\u001b[1;32m    916\u001b[0m       \u001b[0;31m# defunned version which is guaranteed to never create variables.\u001b[0m\u001b[0;34m\u001b[0m\u001b[0;34m\u001b[0m\u001b[0;34m\u001b[0m\u001b[0m\n\u001b[0;32m--> 917\u001b[0;31m       \u001b[0;32mreturn\u001b[0m \u001b[0mself\u001b[0m\u001b[0;34m.\u001b[0m\u001b[0m_stateless_fn\u001b[0m\u001b[0;34m(\u001b[0m\u001b[0;34m*\u001b[0m\u001b[0margs\u001b[0m\u001b[0;34m,\u001b[0m \u001b[0;34m**\u001b[0m\u001b[0mkwds\u001b[0m\u001b[0;34m)\u001b[0m  \u001b[0;31m# pylint: disable=not-callable\u001b[0m\u001b[0;34m\u001b[0m\u001b[0;34m\u001b[0m\u001b[0m\n\u001b[0m\u001b[1;32m    918\u001b[0m     \u001b[0;32melif\u001b[0m \u001b[0mself\u001b[0m\u001b[0;34m.\u001b[0m\u001b[0m_stateful_fn\u001b[0m \u001b[0;32mis\u001b[0m \u001b[0;32mnot\u001b[0m \u001b[0;32mNone\u001b[0m\u001b[0;34m:\u001b[0m\u001b[0;34m\u001b[0m\u001b[0;34m\u001b[0m\u001b[0m\n\u001b[1;32m    919\u001b[0m       \u001b[0;31m# Release the lock early so that multiple threads can perform the call\u001b[0m\u001b[0;34m\u001b[0m\u001b[0;34m\u001b[0m\u001b[0;34m\u001b[0m\u001b[0m\n",
      "\u001b[0;32m~/.pyenv/versions/3.8.6/envs/coughvid/lib/python3.8/site-packages/tensorflow/python/eager/function.py\u001b[0m in \u001b[0;36m__call__\u001b[0;34m(self, *args, **kwargs)\u001b[0m\n\u001b[1;32m   3021\u001b[0m       (graph_function,\n\u001b[1;32m   3022\u001b[0m        filtered_flat_args) = self._maybe_define_function(args, kwargs)\n\u001b[0;32m-> 3023\u001b[0;31m     return graph_function._call_flat(\n\u001b[0m\u001b[1;32m   3024\u001b[0m         filtered_flat_args, captured_inputs=graph_function.captured_inputs)  # pylint: disable=protected-access\n\u001b[1;32m   3025\u001b[0m \u001b[0;34m\u001b[0m\u001b[0m\n",
      "\u001b[0;32m~/.pyenv/versions/3.8.6/envs/coughvid/lib/python3.8/site-packages/tensorflow/python/eager/function.py\u001b[0m in \u001b[0;36m_call_flat\u001b[0;34m(self, args, captured_inputs, cancellation_manager)\u001b[0m\n\u001b[1;32m   1958\u001b[0m         and executing_eagerly):\n\u001b[1;32m   1959\u001b[0m       \u001b[0;31m# No tape is watching; skip to running the function.\u001b[0m\u001b[0;34m\u001b[0m\u001b[0;34m\u001b[0m\u001b[0;34m\u001b[0m\u001b[0m\n\u001b[0;32m-> 1960\u001b[0;31m       return self._build_call_outputs(self._inference_function.call(\n\u001b[0m\u001b[1;32m   1961\u001b[0m           ctx, args, cancellation_manager=cancellation_manager))\n\u001b[1;32m   1962\u001b[0m     forward_backward = self._select_forward_and_backward_functions(\n",
      "\u001b[0;32m~/.pyenv/versions/3.8.6/envs/coughvid/lib/python3.8/site-packages/tensorflow/python/eager/function.py\u001b[0m in \u001b[0;36mcall\u001b[0;34m(self, ctx, args, cancellation_manager)\u001b[0m\n\u001b[1;32m    589\u001b[0m       \u001b[0;32mwith\u001b[0m \u001b[0m_InterpolateFunctionError\u001b[0m\u001b[0;34m(\u001b[0m\u001b[0mself\u001b[0m\u001b[0;34m)\u001b[0m\u001b[0;34m:\u001b[0m\u001b[0;34m\u001b[0m\u001b[0;34m\u001b[0m\u001b[0m\n\u001b[1;32m    590\u001b[0m         \u001b[0;32mif\u001b[0m \u001b[0mcancellation_manager\u001b[0m \u001b[0;32mis\u001b[0m \u001b[0;32mNone\u001b[0m\u001b[0;34m:\u001b[0m\u001b[0;34m\u001b[0m\u001b[0;34m\u001b[0m\u001b[0m\n\u001b[0;32m--> 591\u001b[0;31m           outputs = execute.execute(\n\u001b[0m\u001b[1;32m    592\u001b[0m               \u001b[0mstr\u001b[0m\u001b[0;34m(\u001b[0m\u001b[0mself\u001b[0m\u001b[0;34m.\u001b[0m\u001b[0msignature\u001b[0m\u001b[0;34m.\u001b[0m\u001b[0mname\u001b[0m\u001b[0;34m)\u001b[0m\u001b[0;34m,\u001b[0m\u001b[0;34m\u001b[0m\u001b[0;34m\u001b[0m\u001b[0m\n\u001b[1;32m    593\u001b[0m               \u001b[0mnum_outputs\u001b[0m\u001b[0;34m=\u001b[0m\u001b[0mself\u001b[0m\u001b[0;34m.\u001b[0m\u001b[0m_num_outputs\u001b[0m\u001b[0;34m,\u001b[0m\u001b[0;34m\u001b[0m\u001b[0;34m\u001b[0m\u001b[0m\n",
      "\u001b[0;32m~/.pyenv/versions/3.8.6/envs/coughvid/lib/python3.8/site-packages/tensorflow/python/eager/execute.py\u001b[0m in \u001b[0;36mquick_execute\u001b[0;34m(op_name, num_outputs, inputs, attrs, ctx, name)\u001b[0m\n\u001b[1;32m     57\u001b[0m   \u001b[0;32mtry\u001b[0m\u001b[0;34m:\u001b[0m\u001b[0;34m\u001b[0m\u001b[0;34m\u001b[0m\u001b[0m\n\u001b[1;32m     58\u001b[0m     \u001b[0mctx\u001b[0m\u001b[0;34m.\u001b[0m\u001b[0mensure_initialized\u001b[0m\u001b[0;34m(\u001b[0m\u001b[0;34m)\u001b[0m\u001b[0;34m\u001b[0m\u001b[0;34m\u001b[0m\u001b[0m\n\u001b[0;32m---> 59\u001b[0;31m     tensors = pywrap_tfe.TFE_Py_Execute(ctx._handle, device_name, op_name,\n\u001b[0m\u001b[1;32m     60\u001b[0m                                         inputs, attrs, num_outputs)\n\u001b[1;32m     61\u001b[0m   \u001b[0;32mexcept\u001b[0m \u001b[0mcore\u001b[0m\u001b[0;34m.\u001b[0m\u001b[0m_NotOkStatusException\u001b[0m \u001b[0;32mas\u001b[0m \u001b[0me\u001b[0m\u001b[0;34m:\u001b[0m\u001b[0;34m\u001b[0m\u001b[0;34m\u001b[0m\u001b[0m\n",
      "\u001b[0;31mKeyboardInterrupt\u001b[0m: "
     ]
    }
   ],
   "source": [
    "model.fit(X_train,y_train, batch_size=32,epochs=50)"
   ]
  },
  {
   "cell_type": "markdown",
   "id": "6992b53a",
   "metadata": {},
   "source": [
    "# Try"
   ]
  },
  {
   "cell_type": "code",
   "execution_count": null,
   "id": "9941bb2f",
   "metadata": {},
   "outputs": [],
   "source": [
    "new_df.shape"
   ]
  },
  {
   "cell_type": "code",
   "execution_count": null,
   "id": "54bfea7b",
   "metadata": {
    "scrolled": false
   },
   "outputs": [],
   "source": [
    "new_df[new_df.index==16330]"
   ]
  },
  {
   "cell_type": "code",
   "execution_count": null,
   "id": "746a260c",
   "metadata": {},
   "outputs": [],
   "source": [
    "df[df.index==11501].status"
   ]
  },
  {
   "cell_type": "code",
   "execution_count": null,
   "id": "06ce563b",
   "metadata": {},
   "outputs": [],
   "source": [
    "df.status.value_counts()"
   ]
  },
  {
   "cell_type": "code",
   "execution_count": null,
   "id": "32d9d61f",
   "metadata": {},
   "outputs": [],
   "source": [
    "new_df"
   ]
  },
  {
   "cell_type": "code",
   "execution_count": null,
   "id": "1d11a220",
   "metadata": {},
   "outputs": [],
   "source": [
    "# for i in range(len(audios_test)):\n",
    "#     S = librosa.feature.melspectrogram(y = audios_test[i], sr = rates_test[i], n_mels=128, fmax=8000)\n",
    "#     fig, ax = plt.subplots()\n",
    "#     S_dB = librosa.power_to_db(S, ref=np.max)\n",
    "#     img = librosa.display.specshow(S_dB, sr=rates_test[i], fmax=8000, ax=ax)\n",
    "    \n",
    "#     if new_df[new_df.index==index_test[i]].status.values[0] == 1:\n",
    "#         plt.savefig('./test/2-COVID/' + f'test{i}.png')\n",
    "#     else:\n",
    "#         plt.savefig('./test/1-Healthy/' + f'test{i}.png')"
   ]
  },
  {
   "cell_type": "code",
   "execution_count": null,
   "id": "cbc3634e",
   "metadata": {},
   "outputs": [],
   "source": [
    "path_dir = './test2/'"
   ]
  },
  {
   "cell_type": "code",
   "execution_count": null,
   "id": "517dd688",
   "metadata": {
    "scrolled": true
   },
   "outputs": [],
   "source": [
    "datagen = ImageDataGenerator(\n",
    "                    rescale=1./255,\n",
    "                    validation_split = 0.2)\n",
    "train_generator = datagen.flow_from_directory(\n",
    "    path_dir,\n",
    "    target_size=(288, 432,4),\n",
    "    shuffle=True,\n",
    "    subset='training'\n",
    ")\n",
    "validation_generator = datagen.flow_from_directory(\n",
    "    path_dir,\n",
    "    target_size=(288, 432,4),\n",
    "    subset='validation'\n",
    ")"
   ]
  },
  {
   "cell_type": "code",
   "execution_count": null,
   "id": "f0c69085",
   "metadata": {},
   "outputs": [],
   "source": [
    "pd.DataFrame(train_generator.labels).value_counts()"
   ]
  },
  {
   "cell_type": "code",
   "execution_count": null,
   "id": "d640d874",
   "metadata": {},
   "outputs": [],
   "source": [
    "pd.DataFrame(validation_generator.labels).value_counts()"
   ]
  },
  {
   "cell_type": "code",
   "execution_count": null,
   "id": "c917e287",
   "metadata": {
    "scrolled": true
   },
   "outputs": [],
   "source": [
    "validation_generator.image_shape"
   ]
  },
  {
   "cell_type": "code",
   "execution_count": null,
   "id": "53b5d217",
   "metadata": {},
   "outputs": [],
   "source": [
    "model.compile(loss='categorical_crossentropy', optimizer='adam', metrics = tf.keras.metrics.Recall())\n",
    "model.fit(train_generator, batch_size=32,epochs=50)"
   ]
  },
  {
   "cell_type": "code",
   "execution_count": null,
   "id": "fb11d6cf",
   "metadata": {},
   "outputs": [],
   "source": [
    "accuracy = model.evaluate(validation_generator)\n",
    "print('n', 'Test_Accuracy:-', accuracy[1])\n",
    "pred = model.predict(validation_generator)\n",
    "y_pred = np.argmax(pred, axis=1)\n",
    "y_true = validation_generator.labels\n",
    "print('confusion matrix')\n",
    "print(confusion_matrix(y_true, y_pred))\n",
    "    #confusion matrix\n",
    "f, ax = plt.subplots(figsize=(8,5))\n",
    "sns.heatmap(confusion_matrix(y_true, y_pred), annot=True, fmt=\".0f\", ax=ax)\n",
    "plt.xlabel(\"y_pred\")\n",
    "plt.ylabel(\"y_true\")\n",
    "plt.show()"
   ]
  },
  {
   "cell_type": "code",
   "execution_count": null,
   "id": "7a5a984f",
   "metadata": {},
   "outputs": [],
   "source": [
    "import joblib\n",
    "joblib.dump(model, 'model.joblib')"
   ]
  },
  {
   "cell_type": "code",
   "execution_count": null,
   "id": "b6f5a06b",
   "metadata": {},
   "outputs": [],
   "source": [
    "new_df.shape"
   ]
  },
  {
   "cell_type": "code",
   "execution_count": null,
   "id": "772de89f",
   "metadata": {},
   "outputs": [],
   "source": [
    "def get_all_audios(df, start = 0, finish = 10):\n",
    "\n",
    "    client = storage.Client()\n",
    "\n",
    "    bucket = client.get_bucket('coughvid-650')\n",
    "    \n",
    "    files = df.uuid.iloc[start:finish]\n",
    "    \n",
    "    rates = []\n",
    "    \n",
    "    audios = []\n",
    "    \n",
    "    print(\"Good luck!\")\n",
    "    \n",
    "    j=0\n",
    "    for i in files:\n",
    "    \n",
    "        blob = bucket.get_blob('data/' + f'{i}' + '.wav')\n",
    "        \n",
    "        print('getting ' + f'{j} - {i}' + '.wav' + '...')\n",
    "        \n",
    "        audio, rate = librosa.load(io.BytesIO(blob.download_as_string()), sr=None)\n",
    "        \n",
    "        rates.append(rate)\n",
    "        \n",
    "        audios.append(audio)\n",
    "        j += 1\n",
    "    print(\"Done!\")\n",
    "    \n",
    "    return rates, audios, files.index.values"
   ]
  },
  {
   "cell_type": "code",
   "execution_count": null,
   "id": "6c72dfb1",
   "metadata": {},
   "outputs": [],
   "source": [
    "def audios_to_images(df, audios, rates, index, sub_folders = ['COVID', 'Healthy']):\n",
    "    import os\n",
    "    for folder in range(len(sub_folders)):\n",
    "        if os.path.isdir(f'{sub_folders[folder]}'):\n",
    "            continue\n",
    "        else:\n",
    "            os.mkdir(f'{sub_folders[folder]}')\n",
    "    j=0\n",
    "    for i in range(len(audios)):\n",
    "        S = librosa.feature.melspectrogram(y = audios[i], sr = rates[i], n_mels=128, fmax=8000)\n",
    "        fig, ax = plt.subplots()\n",
    "        S_dB = librosa.power_to_db(S, ref=np.max)\n",
    "        img = librosa.display.specshow(S_dB, sr=rates[i], fmax=8000, ax=ax)\n",
    "        \n",
    "        print(f'Fetching {j}')\n",
    "        j += 1\n",
    "        if df[df.index==index[i]].status.values[0] == 1:\n",
    "            plt.savefig(f'./{sub_folders[0]}/' + f'{df.uuid[df.index==index[i]].values[0]}.png')\n",
    "        else:\n",
    "            plt.savefig(f'./{sub_folders[1]}/' + f'{df.uuid[df.index==index[i]].values[0]}.png')\n",
    "        plt.close()\n",
    "    return print('Done!')\n"
   ]
  },
  {
   "cell_type": "code",
   "execution_count": null,
   "id": "96d0ec30",
   "metadata": {},
   "outputs": [],
   "source": [
    "# rate_info, audio_info, index_info = get_all_audios(new_df,3142,5191)"
   ]
  },
  {
   "cell_type": "code",
   "execution_count": null,
   "id": "6e5d40ad",
   "metadata": {},
   "outputs": [],
   "source": [
    "# audios_to_images(new_df,audio_info,rate_info,index_info)"
   ]
  },
  {
   "cell_type": "code",
   "execution_count": 6,
   "id": "59d781fe",
   "metadata": {},
   "outputs": [
    {
     "data": {
      "text/plain": [
       "(10191, 288, 432, 4)"
      ]
     },
     "execution_count": 6,
     "metadata": {},
     "output_type": "execute_result"
    }
   ],
   "source": [
    "# load numpy array from npy file\n",
    "from numpy import load\n",
    "# load array\n",
    "X = load('data.npy')\n",
    "X.shape"
   ]
  },
  {
   "cell_type": "code",
   "execution_count": 5,
   "id": "4154021b",
   "metadata": {},
   "outputs": [
    {
     "data": {
      "text/plain": [
       "(10191,)"
      ]
     },
     "execution_count": 5,
     "metadata": {},
     "output_type": "execute_result"
    }
   ],
   "source": [
    "# load numpy array from npy file\n",
    "from numpy import load\n",
    "# load array\n",
    "y = load('target.npy')\n",
    "y.shape"
   ]
  },
  {
   "cell_type": "code",
   "execution_count": 3,
   "id": "b799a419",
   "metadata": {},
   "outputs": [
    {
     "ename": "NameError",
     "evalue": "name 'X' is not defined",
     "output_type": "error",
     "traceback": [
      "\u001b[0;31m---------------------------------------------------------------------------\u001b[0m",
      "\u001b[0;31mNameError\u001b[0m                                 Traceback (most recent call last)",
      "\u001b[0;32m/tmp/ipykernel_393/2545658799.py\u001b[0m in \u001b[0;36m<module>\u001b[0;34m\u001b[0m\n\u001b[0;32m----> 1\u001b[0;31m \u001b[0mplt\u001b[0m\u001b[0;34m.\u001b[0m\u001b[0mimshow\u001b[0m\u001b[0;34m(\u001b[0m\u001b[0mX\u001b[0m\u001b[0;34m[\u001b[0m\u001b[0;36m0\u001b[0m\u001b[0;34m]\u001b[0m\u001b[0;34m)\u001b[0m\u001b[0;34m\u001b[0m\u001b[0;34m\u001b[0m\u001b[0m\n\u001b[0m",
      "\u001b[0;31mNameError\u001b[0m: name 'X' is not defined"
     ]
    }
   ],
   "source": [
    "import matplotlib.pyplot as plt\n",
    "plt.imshow(X[0])"
   ]
  },
  {
   "cell_type": "code",
   "execution_count": 7,
   "id": "b770a6f2",
   "metadata": {},
   "outputs": [],
   "source": [
    "from sklearn.model_selection import train_test_split\n",
    "X_train, X_test, y_train, y_test = train_test_split(X, y, test_size=0.3)"
   ]
  },
  {
   "cell_type": "code",
   "execution_count": 8,
   "id": "de50cdc2",
   "metadata": {},
   "outputs": [
    {
     "data": {
      "text/plain": [
       "(7133, 288, 432, 4)"
      ]
     },
     "execution_count": 8,
     "metadata": {},
     "output_type": "execute_result"
    }
   ],
   "source": [
    "X_train.shape"
   ]
  },
  {
   "cell_type": "code",
   "execution_count": 9,
   "id": "64a44848",
   "metadata": {},
   "outputs": [
    {
     "data": {
      "text/plain": [
       "(3058, 288, 432, 4)"
      ]
     },
     "execution_count": 9,
     "metadata": {},
     "output_type": "execute_result"
    }
   ],
   "source": [
    "X_test.shape"
   ]
  },
  {
   "cell_type": "code",
   "execution_count": 10,
   "id": "9f4c85cb",
   "metadata": {
    "scrolled": true
   },
   "outputs": [
    {
     "name": "stderr",
     "output_type": "stream",
     "text": [
      "2021-08-06 10:52:09.402697: W tensorflow/stream_executor/platform/default/dso_loader.cc:64] Could not load dynamic library 'libcudart.so.11.0'; dlerror: libcudart.so.11.0: cannot open shared object file: No such file or directory\n",
      "2021-08-06 10:52:09.402774: I tensorflow/stream_executor/cuda/cudart_stub.cc:29] Ignore above cudart dlerror if you do not have a GPU set up on your machine.\n"
     ]
    }
   ],
   "source": [
    "import pandas as pd\n",
    "import numpy as np\n",
    "from tensorflow.keras import layers\n",
    "from tensorflow.keras import models\n",
    "from tensorflow.keras import metrics\n",
    "from sklearn.metrics import confusion_matrix"
   ]
  },
  {
   "cell_type": "code",
   "execution_count": null,
   "id": "5a8f904e",
   "metadata": {},
   "outputs": [],
   "source": []
  },
  {
   "cell_type": "code",
   "execution_count": 45,
   "id": "c28e0391",
   "metadata": {
    "scrolled": true
   },
   "outputs": [
    {
     "name": "stderr",
     "output_type": "stream",
     "text": [
      "ffmpeg version 4.2.4-1ubuntu0.1 Copyright (c) 2000-2020 the FFmpeg developers\n",
      "  built with gcc 9 (Ubuntu 9.3.0-10ubuntu2)\n",
      "  configuration: --prefix=/usr --extra-version=1ubuntu0.1 --toolchain=hardened --libdir=/usr/lib/x86_64-linux-gnu --incdir=/usr/include/x86_64-linux-gnu --arch=amd64 --enable-gpl --disable-stripping --enable-avresample --disable-filter=resample --enable-avisynth --enable-gnutls --enable-ladspa --enable-libaom --enable-libass --enable-libbluray --enable-libbs2b --enable-libcaca --enable-libcdio --enable-libcodec2 --enable-libflite --enable-libfontconfig --enable-libfreetype --enable-libfribidi --enable-libgme --enable-libgsm --enable-libjack --enable-libmp3lame --enable-libmysofa --enable-libopenjpeg --enable-libopenmpt --enable-libopus --enable-libpulse --enable-librsvg --enable-librubberband --enable-libshine --enable-libsnappy --enable-libsoxr --enable-libspeex --enable-libssh --enable-libtheora --enable-libtwolame --enable-libvidstab --enable-libvorbis --enable-libvpx --enable-libwavpack --enable-libwebp --enable-libx265 --enable-libxml2 --enable-libxvid --enable-libzmq --enable-libzvbi --enable-lv2 --enable-omx --enable-openal --enable-opencl --enable-opengl --enable-sdl2 --enable-libdc1394 --enable-libdrm --enable-libiec61883 --enable-nvenc --enable-chromaprint --enable-frei0r --enable-libx264 --enable-shared\n",
      "  WARNING: library configuration mismatch\n",
      "  avcodec     configuration: --prefix=/usr --extra-version=1ubuntu0.1 --toolchain=hardened --libdir=/usr/lib/x86_64-linux-gnu --incdir=/usr/include/x86_64-linux-gnu --arch=amd64 --enable-gpl --disable-stripping --enable-avresample --disable-filter=resample --enable-avisynth --enable-gnutls --enable-ladspa --enable-libaom --enable-libass --enable-libbluray --enable-libbs2b --enable-libcaca --enable-libcdio --enable-libcodec2 --enable-libflite --enable-libfontconfig --enable-libfreetype --enable-libfribidi --enable-libgme --enable-libgsm --enable-libjack --enable-libmp3lame --enable-libmysofa --enable-libopenjpeg --enable-libopenmpt --enable-libopus --enable-libpulse --enable-librsvg --enable-librubberband --enable-libshine --enable-libsnappy --enable-libsoxr --enable-libspeex --enable-libssh --enable-libtheora --enable-libtwolame --enable-libvidstab --enable-libvorbis --enable-libvpx --enable-libwavpack --enable-libwebp --enable-libx265 --enable-libxml2 --enable-libxvid --enable-libzmq --enable-libzvbi --enable-lv2 --enable-omx --enable-openal --enable-opencl --enable-opengl --enable-sdl2 --enable-libdc1394 --enable-libdrm --enable-libiec61883 --enable-nvenc --enable-chromaprint --enable-frei0r --enable-libx264 --enable-shared --enable-version3 --disable-doc --disable-programs --enable-libaribb24 --enable-liblensfun --enable-libopencore_amrnb --enable-libopencore_amrwb --enable-libtesseract --enable-libvo_amrwbenc\n",
      "  libavutil      56. 31.100 / 56. 31.100\n",
      "  libavcodec     58. 54.100 / 58. 54.100\n",
      "  libavformat    58. 29.100 / 58. 29.100\n",
      "  libavdevice    58.  8.100 / 58.  8.100\n",
      "  libavfilter     7. 57.100 /  7. 57.100\n",
      "  libavresample   4.  0.  0 /  4.  0.  0\n",
      "  libswscale      5.  5.100 /  5.  5.100\n",
      "  libswresample   3.  5.100 /  3.  5.100\n",
      "  libpostproc    55.  5.100 / 55.  5.100\n",
      "Input #0, ogg, from './WhatsApp Ptt 2021-08-09 at 13.32.27.ogg':\n",
      "  Duration: 00:00:04.05, start: 0.006500, bitrate: 18 kb/s\n",
      "    Stream #0:0: Audio: opus, 48000 Hz, mono, fltp\n",
      "Stream mapping:\n",
      "  Stream #0:0 -> #0:0 (opus (native) -> pcm_s16le (native))\n",
      "Press [q] to stop, [?] for help\n",
      "Output #0, wav, to './WhatsApp Ptt 2021-08-09 at 13.32.27.wav':\n",
      "  Metadata:\n",
      "    ISFT            : Lavf58.29.100\n",
      "    Stream #0:0: Audio: pcm_s16le ([1][0][0][0] / 0x0001), 48000 Hz, mono, s16, 768 kb/s\n",
      "    Metadata:\n",
      "      encoder         : Lavc58.54.100 pcm_s16le\n",
      "size=     378kB time=00:00:04.03 bitrate= 768.2kbits/s speed= 461x    \n",
      "video:0kB audio:378kB subtitle:0kB other streams:0kB global headers:0kB muxing overhead: 0.020144%\n"
     ]
    },
    {
     "data": {
      "text/plain": [
       "0"
      ]
     },
     "execution_count": 45,
     "metadata": {},
     "output_type": "execute_result"
    }
   ],
   "source": [
    "import numpy as np\n",
    "import pandas as pd\n",
    "import os\n",
    "import subprocess\n",
    "subprocess.call([\"ffmpeg\", \"-i\",\"./WhatsApp Ptt 2021-08-09 at 13.32.27.ogg\", \"./WhatsApp Ptt 2021-08-09 at 13.32.27.wav\"])"
   ]
  },
  {
   "cell_type": "code",
   "execution_count": 46,
   "id": "c7b7a1b6",
   "metadata": {},
   "outputs": [],
   "source": [
    "test = \"UploadedFile(id=17, name='WhatsApp Ptt 2021-08-09 at 13.32.27.wav', type='audio/wav', size=387294)\""
   ]
  },
  {
   "cell_type": "code",
   "execution_count": null,
   "id": "ee2420e9",
   "metadata": {},
   "outputs": [],
   "source": []
  },
  {
   "cell_type": "code",
   "execution_count": 78,
   "id": "2a86cde9",
   "metadata": {},
   "outputs": [
    {
     "data": {
      "text/plain": [
       "20"
      ]
     },
     "execution_count": 78,
     "metadata": {},
     "output_type": "execute_result"
    }
   ],
   "source": [
    "test.find(\"name=\")"
   ]
  },
  {
   "cell_type": "code",
   "execution_count": 84,
   "id": "fe312d73",
   "metadata": {},
   "outputs": [
    {
     "data": {
      "text/plain": [
       "'WhatsApp Ptt 2021-08-09 at 13.32.27.wav'"
      ]
     },
     "execution_count": 84,
     "metadata": {},
     "output_type": "execute_result"
    }
   ],
   "source": [
    "test2 = test[test.find(\"name=\")+6:test.find(\"type=\")-3]\n",
    "test2"
   ]
  },
  {
   "cell_type": "code",
   "execution_count": null,
   "id": "561bd44e",
   "metadata": {},
   "outputs": [],
   "source": []
  }
 ],
 "metadata": {
  "kernelspec": {
   "display_name": "Python 3 (ipykernel)",
   "language": "python",
   "name": "python3"
  },
  "language_info": {
   "codemirror_mode": {
    "name": "ipython",
    "version": 3
   },
   "file_extension": ".py",
   "mimetype": "text/x-python",
   "name": "python",
   "nbconvert_exporter": "python",
   "pygments_lexer": "ipython3",
   "version": "3.8.6"
  },
  "toc": {
   "base_numbering": 1,
   "nav_menu": {},
   "number_sections": true,
   "sideBar": true,
   "skip_h1_title": false,
   "title_cell": "Table of Contents",
   "title_sidebar": "Contents",
   "toc_cell": false,
   "toc_position": {},
   "toc_section_display": true,
   "toc_window_display": true
  }
 },
 "nbformat": 4,
 "nbformat_minor": 5
}
